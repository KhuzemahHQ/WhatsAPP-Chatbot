{
 "cells": [
  {
   "cell_type": "code",
   "execution_count": 1,
   "metadata": {
    "tags": []
   },
   "outputs": [
    {
     "ename": "ModuleNotFoundError",
     "evalue": "No module named 'googleapiclient'",
     "output_type": "error",
     "traceback": [
      "\u001b[1;31m---------------------------------------------------------------------------\u001b[0m",
      "\u001b[1;31mModuleNotFoundError\u001b[0m                       Traceback (most recent call last)",
      "Cell \u001b[1;32mIn [1], line 2\u001b[0m\n\u001b[0;32m      1\u001b[0m \u001b[38;5;28;01mfrom\u001b[39;00m \u001b[38;5;21;01mgoogle\u001b[39;00m\u001b[38;5;21;01m.\u001b[39;00m\u001b[38;5;21;01moauth2\u001b[39;00m\u001b[38;5;21;01m.\u001b[39;00m\u001b[38;5;21;01mservice_account\u001b[39;00m \u001b[38;5;28;01mimport\u001b[39;00m Credentials\n\u001b[1;32m----> 2\u001b[0m \u001b[38;5;28;01mfrom\u001b[39;00m \u001b[38;5;21;01mgoogleapiclient\u001b[39;00m\u001b[38;5;21;01m.\u001b[39;00m\u001b[38;5;21;01mdiscovery\u001b[39;00m \u001b[38;5;28;01mimport\u001b[39;00m build\n\u001b[0;32m      3\u001b[0m \u001b[38;5;28;01mimport\u001b[39;00m \u001b[38;5;21;01mpandas\u001b[39;00m \u001b[38;5;28;01mas\u001b[39;00m \u001b[38;5;21;01mpd\u001b[39;00m\n\u001b[0;32m      4\u001b[0m \u001b[38;5;28;01mfrom\u001b[39;00m \u001b[38;5;21;01mdatetime\u001b[39;00m \u001b[38;5;28;01mimport\u001b[39;00m date\n",
      "\u001b[1;31mModuleNotFoundError\u001b[0m: No module named 'googleapiclient'"
     ]
    }
   ],
   "source": [
    "from google.oauth2.service_account import Credentials\n",
    "from googleapiclient.discovery import build\n",
    "import pandas as pd\n",
    "from datetime import date\n",
    "\n",
    "# Path to your service account key file\n",
    "\n",
    "def report_query(values = None):\n",
    "    # schema : [order_id, customer_id, customer_name, order date, order items, status, rider, Rider contact number, Delivery address, Amount, Rating]\n",
    "\n",
    "    SERVICE_ACCOUNT_FILE = r'onlybusinessdummy-8706fb48751e.json' \n",
    "    SPREADSHEET_ID = '1E_TLxnvSQgz2E7Y-5kFLJZtf8OogxPklmCQ819ip-vA'\n",
    "    RANGE_NAME = 'Sheet2'\n",
    "\n",
    "    \n",
    "    # Authenticate and build the service\n",
    "    credentials = Credentials.from_service_account_file(\n",
    "            SERVICE_ACCOUNT_FILE, scopes=['https://www.googleapis.com/auth/spreadsheets'])\n",
    "    service = build('sheets', 'v4', credentials=credentials)\n",
    "\n",
    "    # Call the Sheets API to append the data\n",
    "    sheet = service.spreadsheets().values().get(\n",
    "    spreadsheetId=SPREADSHEET_ID, range=RANGE_NAME, majorDimension='ROWS').execute()\n",
    "    \n",
    "    sheet_values = sheet['values']\n",
    "    column_names = sheet_values[0]\n",
    "    data_rows = sheet_values[1:]\n",
    "    \n",
    "    df = pd.DataFrame(data_rows, columns=column_names)\n",
    "    print(df.head())\n",
    "    # today_date = str(date.today())\n",
    "    # today_date = today_date.split('-')\n",
    "    # today_date.reverse()\n",
    "    # today_date = \"-\".join(today_date)\n",
    "    # query_results = df[df['Order Date'] == today_date]\n",
    "    # query_results = [query_results.columns.tolist()] + query_results.values.tolist()\n",
    "    # return query_results\n",
    "\n",
    "report_query()\n",
    "\n",
    "\n"
   ]
  }
 ],
 "metadata": {
  "kernelspec": {
   "display_name": "Python 3 (ipykernel)",
   "language": "python",
   "name": "python3"
  },
  "language_info": {
   "codemirror_mode": {
    "name": "ipython",
    "version": 3
   },
   "file_extension": ".py",
   "mimetype": "text/x-python",
   "name": "python",
   "nbconvert_exporter": "python",
   "pygments_lexer": "ipython3",
   "version": "3.10.6"
  }
 },
 "nbformat": 4,
 "nbformat_minor": 4
}
