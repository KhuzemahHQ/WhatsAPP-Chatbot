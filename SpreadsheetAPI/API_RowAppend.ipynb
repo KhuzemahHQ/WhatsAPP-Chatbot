{
 "cells": [
  {
   "cell_type": "code",
   "execution_count": 3,
   "metadata": {},
   "outputs": [],
   "source": [
    "from google.oauth2.service_account import Credentials\n",
    "from googleapiclient.discovery import build\n",
    "\n",
    "# Path to your service account key file\n",
    "\n",
    "def insert_data_to_spreadsheet(values = None):\n",
    "    # schema : [order_id, customer_id, customer_name, order date, order items, status, rider, Rider contact number, Delivery address, Amount, Rating]\n",
    "\n",
    "    # values should be passed in the following format:\n",
    "\n",
    "    values = [[\"23\", \"69\", \"Zain Ali Khokhar\", \"01-03-2024\", \"HP Envy Screen Protector, HP Envy Hinge\", \"Delivered\", \"Sponge-Bob\", \"03248433434\", \"Out of Lahore\", \"$6666.44\", \"9\", \"Added through API\"]]\n",
    "\n",
    "\n",
    "    SERVICE_ACCOUNT_FILE = r'C:\\Users\\Ahad Imran\\Desktop\\GenAI\\Project\\onlybusinessdummy-8706fb48751e.json' \n",
    "    SPREADSHEET_ID = '1E_TLxnvSQgz2E7Y-5kFLJZtf8OogxPklmCQ819ip-vA'\n",
    "    RANGE_NAME = 'Sheet1'\n",
    "\n",
    "    \n",
    "    # Authenticate and build the service\n",
    "    credentials = Credentials.from_service_account_file(\n",
    "            SERVICE_ACCOUNT_FILE, scopes=['https://www.googleapis.com/auth/spreadsheets'])\n",
    "    service = build('sheets', 'v4', credentials=credentials)\n",
    "\n",
    "    # Call the Sheets API to append the data\n",
    "    request = service.spreadsheets().values().append(\n",
    "        spreadsheetId=SPREADSHEET_ID,\n",
    "        range=RANGE_NAME,\n",
    "        valueInputOption='USER_ENTERED',\n",
    "        insertDataOption='INSERT_ROWS',\n",
    "        body={'values': values}\n",
    "    )\n",
    "    response = request.execute()\n",
    "\n",
    "    return \"Successfully added row.\"\n",
    "\n",
    "insert_data_to_spreadsheet()\n"
   ]
  }
 ],
 "metadata": {
  "kernelspec": {
   "display_name": "base",
   "language": "python",
   "name": "python3"
  },
  "language_info": {
   "codemirror_mode": {
    "name": "ipython",
    "version": 3
   },
   "file_extension": ".py",
   "mimetype": "text/x-python",
   "name": "python",
   "nbconvert_exporter": "python",
   "pygments_lexer": "ipython3",
   "version": "3.10.11"
  }
 },
 "nbformat": 4,
 "nbformat_minor": 2
}
